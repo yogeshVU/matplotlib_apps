{
 "cells": [
  {
   "cell_type": "code",
   "execution_count": 120,
   "metadata": {},
   "outputs": [
    {
     "name": "stdout",
     "output_type": "stream",
     "text": [
      "(100, 20) (25, 5)\n",
      "(150, 10) (25, 5)\n",
      "(100, 20) (5, 5)\n",
      "(150, 10) (5, 5)\n",
      "(100, 20) (15, 5)\n",
      "(150, 10) (15, 5)\n"
     ]
    },
    {
     "data": {
      "image/png": "[encoded data removed]",
      "text/plain": [
       "<matplotlib.figure.Figure at 0x7f8738ed00d0>"
      ]
     },
     "metadata": {},
     "output_type": "display_data"
    }
   ],
   "source": [
    "#this line prepares IPython for working with matplotlib\n",
    "%matplotlib inline  \n",
    "\n",
    "# # this actually imports matplotlib\n",
    "# import numpy as np\n",
    "# import matplotlib.pyplot as plt  \n",
    "\n",
    "# x = np.linspace(0, 10, 30)  #array of 30 points from 0 to 10\n",
    "# y = np.sin(x)\n",
    "# z = y + np.random.normal(size=30) * .2\n",
    "# plt.plot(x, y, 'b+:', label='A sine wave')\n",
    "# #plt.axhspan(0, 0.25, 0, 1, hold=None, hatch='/')\n",
    "# plt.axvline(x=3, ymin=0, ymax=1, hold=None,linewidth=4, color='r')\n",
    "# #plt.axvspan(0, 5, 0, 1, hold=None)\n",
    "# plt.bar(0, 0.25, width=1, bottom=None, hold=None, data=None)\n",
    "# #plt.plot(x, z, 'b-', label='Noisy sine')\n",
    "# plt.legend(loc = 'lower right')\n",
    "# plt.xlabel(\"X axis\")\n",
    "# plt.ylabel(\"Y axis\")\n",
    "# plt.show()\n",
    "\n",
    "import matplotlib.pyplot as plt\n",
    "\n",
    "fig, ax = plt.subplots()\n",
    "\n",
    "ax.set_ylim(0, 50)\n",
    "ax.set_xlim(0, 200)\n",
    "\n",
    "\n",
    "#ax.broken_barh([(10, 50), (100, 20), (130, 10)], (20, 9),\n",
    "#               facecolors=('red', 'yellow', 'green'))\n",
    "\n",
    "\n",
    "\n",
    "ax.set_xlabel('seconds since start')\n",
    "ax.set_ylabel('Simulation')\n",
    "\n",
    "ax.set_yticks([5,15, 25])\n",
    "ax.set_yticklabels(['S1','S2', 'S3'])\n",
    "\n",
    "\n",
    "bars_collection_xx =[(100, 20),(150, 10)]\n",
    "bars_collection_yy = (25,5)\n",
    "for xx in bars_collection_xx:\n",
    "    print xx,bars_collection_yy\n",
    "    ax.broken_barh([xx], bars_collection_yy, facecolors='red',hatch='xxx')\n",
    "\n",
    "\n",
    "bars_collection_xx =[(100, 20),(150, 10)]\n",
    "bars_collection_yy = (5,5)\n",
    "for xx in bars_collection_xx:\n",
    "    print xx,bars_collection_yy\n",
    "    ax.broken_barh([xx], bars_collection_yy, facecolors='red',hatch='xxx')\n",
    "\n",
    "\n",
    "bars_collection_xx =[(100, 20),(150, 10)]\n",
    "bars_collection_yy = (15,5)\n",
    "for xx in bars_collection_xx:\n",
    "    print xx,bars_collection_yy\n",
    "    ax.broken_barh([xx], bars_collection_yy, facecolors='red',hatch='xxx')\n",
    "\n",
    "\n",
    "    \n",
    "    \n",
    "#ax.broken_barh([(100, 10), (150, 10)], (25, 5), facecolors='red',hatch='xxx')\n",
    "\n",
    "#ax.broken_barh([(100, 10), (150, 10)], (5, 5), facecolors='blue',hatch='xxx')\n",
    "\n",
    "#ax.broken_barh([(100, 10), (150, 10)], (15, 5), facecolors='green',hatch='xxx')\n",
    "\n",
    "\n",
    "plt.axvline(x=10, ymin=0, ymax=1, hold=None)\n",
    "\n",
    "ax.grid(True)\n",
    "\n",
    "ax.annotate('race interrupted', (61, 25),\n",
    "            xytext=(0.8, 0.9), textcoords='axes fraction',\n",
    "            arrowprops=dict(facecolor='black', shrink=0.05),\n",
    "            fontsize=16,\n",
    "            horizontalalignment='right', verticalalignment='top')\n",
    "\n",
    "xposition = [20, 50, 100]\n",
    "\n",
    "for xc in xposition:\n",
    "    plt.axvline(x=xc, color='r', linestyle='-')\n",
    "\n",
    "yposition = [5, 15, 25]\n",
    "for yc in yposition:\n",
    "    plt.axhline(y=yc, color='b', linestyle='-')\n",
    "    \n",
    "plt.show()"
   ]
  },
  {
   "cell_type": "code",
   "execution_count": null,
   "metadata": {
    "collapsed": true
   },
   "outputs": [],
   "source": []
  },
  {
   "cell_type": "code",
   "execution_count": null,
   "metadata": {
    "collapsed": true
   },
   "outputs": [],
   "source": []
  }
 ],
 "metadata": {
  "kernelspec": {
   "display_name": "Python 2",
   "language": "python",
   "name": "python2"
  },
  "language_info": {
   "codemirror_mode": {
    "name": "ipython",
    "version": 2
   },
   "file_extension": ".py",
   "mimetype": "text/x-python",
   "name": "python",
   "nbconvert_exporter": "python",
   "pygments_lexer": "ipython2",
   "version": "2.7.12"
  }
 },
 "nbformat": 4,
 "nbformat_minor": 2
}
